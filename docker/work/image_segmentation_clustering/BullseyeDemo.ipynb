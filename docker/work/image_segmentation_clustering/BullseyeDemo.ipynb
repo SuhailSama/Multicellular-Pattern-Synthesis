{
 "cells": [
  {
   "cell_type": "markdown",
   "metadata": {},
   "source": [
    "## Bullseye Analysis\n",
    "\n",
    "To analysis the bullseye photos, we used the following script which can be used with the provided sample images:"
   ]
  },
  {
   "cell_type": "code",
   "execution_count": 1,
   "metadata": {},
   "outputs": [
    {
     "name": "stdout",
     "output_type": "stream",
     "text": [
      "Loading colony data from /home/synth/image_segmentation_clustering/images/bullseye/EBICS_BULLSEYE_A - 5_E_D(cropped).tif\n",
      "/home/synth/.venv/lib/python3.5/site-packages/skimage/morphology/misc.py:212: UserWarning: the min_size argument is deprecated and will be removed in 0.16. Use area_threshold instead.\n",
      "  \"0.16. Use area_threshold instead.\")\n",
      "[1 2]\n",
      "[8274697]\n",
      "[8274697, 5119607]\n",
      "skipping id, 1\n",
      "11420\n",
      "island1 in 2\n",
      "/home/synth/.venv/lib/python3.5/site-packages/skimage/measure/_regionprops.py:250: UserWarning: regionprops and image moments (including moments, normalized moments, central moments, and inertia tensor) of 2D images will change from xy coordinates to rc coordinates in version 0.16.\n",
      "See https://scikit-image.org/docs/0.14.x/release_notes_and_installation.html#deprecations for details on how to avoid this message.\n",
      "  warn(XY_TO_RC_DEPRECATION_MESSAGE)\n",
      "/home/synth/.venv/lib/python3.5/site-packages/skimage/measure/_regionprops.py:260: UserWarning: regionprops and image moments (including moments, normalized moments, central moments, and inertia tensor) of 2D images will change from xy coordinates to rc coordinates in version 0.16.\n",
      "See https://scikit-image.org/docs/0.14.x/release_notes_and_installation.html#deprecations for details on how to avoid this message.\n",
      "  warn(XY_TO_RC_DEPRECATION_MESSAGE)\n",
      "island2 in 2\n",
      "island3 in 2\n",
      "Loading colony data from /home/synth/image_segmentation_clustering/images/bullseye/EBICS_BULLSEYE_B - 10E_D(cropped).tif\n",
      "[1 2]\n",
      "[12029750]\n",
      "[12029750, 3794410]\n",
      "skipping id, 1\n",
      "7328\n",
      "island1 in 2\n",
      "island2 in 2\n",
      "Loading colony data from /home/synth/image_segmentation_clustering/images/bullseye/EBICS_BULLSEYE_A - 9_E_D (cropped).tif\n",
      "[1 2 3 4]\n",
      "[10664546]\n",
      "[10664546, 2944387]\n",
      "[10664546, 2944387, 1422123]\n",
      "[10664546, 2944387, 1422123, 974641]\n",
      "skipping id, 1\n",
      "6714\n",
      "island1 in 2\n",
      "island2 in 2\n",
      "2981\n",
      "island1 in 3\n",
      "island2 in 3\n",
      "island3 in 3\n",
      "2404\n",
      "island1 in 4\n"
     ]
    }
   ],
   "source": [
    "!python Masking\\ bullseyes.py"
   ]
  },
  {
   "cell_type": "markdown",
   "metadata": {},
   "source": [
    "![DAPI_mask](http://localhost:8888/files/image_segmentation_clustering/plots/bullseye/EBICS_BULLSEYE_A%20-%205_E_D(cropped)/DAPI_mask.png)\n",
    "\n",
    "We masked the DAPI to label the location of the cells."
   ]
  },
  {
   "cell_type": "markdown",
   "metadata": {},
   "source": [
    "![DAPI_segmentation](http://localhost:8888/files/image_segmentation_clustering/plots/bullseye/EBICS_BULLSEYE_A%20-%205_E_D(cropped)/DAPI_segmentation.png)\n",
    "\n",
    "The DAPI_mask was them used to segment and identify each colony"
   ]
  },
  {
   "cell_type": "markdown",
   "metadata": {},
   "source": [
    "![ECAD_mask](http://localhost:8888/files/image_segmentation_clustering/plots/bullseye/EBICS_BULLSEYE_A%20-%205_E_D(cropped)/ECAD_mask.png)\n",
    "\n",
    "We used the presence of the molecule CDH1 (which we name ECAD in this script) to label each population of ECAD+ or ECAD- cells. "
   ]
  },
  {
   "cell_type": "markdown",
   "metadata": {},
   "source": [
    "![ECAD_DAPI_overlap](http://localhost:8888/files/image_segmentation_clustering/plots/bullseye/EBICS_BULLSEYE_A%20-%205_E_D(cropped)/DAPI_segmentation_c02.png)\n",
    "\n",
    "We then took the identified ECAD_mask that overlaped with the identified colony from the DAPI segmentation."
   ]
  },
  {
   "cell_type": "markdown",
   "metadata": {},
   "source": [
    "![DAPI peaks](http://localhost:8888/files/image_segmentation_clustering/plots/bullseye/EBICS_BULLSEYE_A%20-%205_E_D(cropped)/DAPI_peaks_c02.png)\n",
    "\n",
    "The peak fluorescence from the DAPI image within the segmented colony was used to identify the total cells in the entire colony"
   ]
  },
  {
   "cell_type": "markdown",
   "metadata": {},
   "source": [
    "![cluster DAPI peaks](http://localhost:8888/files/image_segmentation_clustering/plots/bullseye/EBICS_BULLSEYE_A%20-%205_E_D(cropped)/Island_c02r031.png)\n",
    "\n",
    "The peak fluorescence from the DAPI image within the segmented clusters from the ECAD mask was used to identify the total cells in each cluster"
   ]
  },
  {
   "cell_type": "markdown",
   "metadata": {},
   "source": [
    "The the final outputs of our analysis were written out to two files. The first, \"BullseyeParameters.csv\" contains information about each individual cluster of ECAD+ cells that were identified per cell colony, for example the total cells per cluster, the area of the cluster, etc. The second file \"TotBullseyeParameters.csv\" contains information at the colony level, for example the total ECAD+ clusters in a colony, the average size of clusters in that colony, etc. "
   ]
  }
 ],
 "metadata": {
  "kernelspec": {
   "display_name": "Python 3",
   "language": "python",
   "name": "python3"
  },
  "language_info": {
   "codemirror_mode": {
    "name": "ipython",
    "version": 3
   },
   "file_extension": ".py",
   "mimetype": "text/x-python",
   "name": "python",
   "nbconvert_exporter": "python",
   "pygments_lexer": "ipython3",
   "version": "3.5.2"
  }
 },
 "nbformat": 4,
 "nbformat_minor": 2
}
