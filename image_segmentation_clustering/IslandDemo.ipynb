{
 "cells": [
  {
   "cell_type": "markdown",
   "metadata": {},
   "source": [
    "## IslandDemo\n",
    "\n",
    "To analysis the island photos, we used the following script which can be used with the provided sample images:"
   ]
  },
  {
   "cell_type": "markdown",
   "metadata": {},
   "source": [
    "![DAPI_mask](http://localhost:8888/files/image_segmentation_clustering/plots/islands/EBICS_ISLAND_D%20-%208_E_D(cropped)/DAPI_mask.png)\n",
    "We masked the DAPI to label the location of the cells."
   ]
  },
  {
   "cell_type": "markdown",
   "metadata": {},
   "source": [
    "![DAPI_segmentation](http://localhost:8888/files/image_segmentation_clustering/plots/islands/EBICS_ISLAND_D%20-%208_E_D(cropped)/DAPI_segmentation.png)\n",
    "The DAPI_mask was them used to segment and identify each colony"
   ]
  },
  {
   "cell_type": "markdown",
   "metadata": {},
   "source": [
    "![ECAD_mask](http://localhost:8888/files/image_segmentation_clustering/plots/islands/EBICS_ISLAND_D%20-%208_E_D(cropped)/ECAD_mask.png)\n",
    "\n",
    "We used the presence of the molecule CDH1 (which we name ECAD in this script) to label each population of ECAD+ or ECAD- cells. "
   ]
  },
  {
   "cell_type": "markdown",
   "metadata": {},
   "source": [
    "![ECAD_DAPI_overlap](http://localhost:8888/files/image_segmentation_clustering/plots/islands/EBICS_ISLAND_D%20-%208_E_D(cropped)/DAPI_segmentation_c02.png)\n",
    "\n",
    "We then took the identified ECAD_mask that overlaped with the identified colony from the DAPI segmentation."
   ]
  },
  {
   "cell_type": "markdown",
   "metadata": {},
   "source": [
    "![DAPI peaks](http://localhost:8888/files/image_segmentation_clustering/plots/islands/EBICS_ISLAND_D%20-%208_E_D(cropped)/DAPI_peaks_c02.png)\n",
    "\n",
    "The peak fluorescence from the DAPI image within the segmented colony was used to identify the total cells in the entire colony"
   ]
  },
  {
   "cell_type": "markdown",
   "metadata": {},
   "source": [
    "![island DAPI peaks](http://localhost:8888/files/image_segmentation_clustering/plots/bullseye/EBICS_BULLSEYE_A%20-%205_E_D(cropped)/Island_c02r015.png)\n",
    "\n",
    "The peak fluorescence from the DAPI image within the segmented islands from the ECAD mask was used to identify the total cells in each island"
   ]
  },
  {
   "cell_type": "markdown",
   "metadata": {},
   "source": [
    "The the final outputs of our analysis were written out to two files. The first, \"IslandParameters.csv\" contains information about each individual cluster of ECAD+ cells that were identified per cell colony, for example the total cells per island, the area of the island, etc. The second file \"TotIslandParameters.csv\" contains information at the colony level, for example the total islands in a colony, the average size of clusters in that colony, etc. "
   ]
  },
  {
   "cell_type": "code",
   "execution_count": null,
   "metadata": {},
   "outputs": [],
   "source": [
    "!python Masking\\ bulls.py"
   ]
  }
 ],
 "metadata": {
  "kernelspec": {
   "display_name": "Python 3",
   "language": "python",
   "name": "python3"
  },
  "language_info": {
   "codemirror_mode": {
    "name": "ipython",
    "version": 3
   },
   "file_extension": ".py",
   "mimetype": "text/x-python",
   "name": "python",
   "nbconvert_exporter": "python",
   "pygments_lexer": "ipython3",
   "version": "3.5.2"
  }
 },
 "nbformat": 4,
 "nbformat_minor": 2
}
